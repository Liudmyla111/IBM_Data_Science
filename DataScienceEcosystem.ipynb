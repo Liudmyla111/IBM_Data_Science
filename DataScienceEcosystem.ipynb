{
  "nbformat": 4,
  "nbformat_minor": 0,
  "metadata": {
    "colab": {
      "provenance": []
    },
    "kernelspec": {
      "name": "python3",
      "display_name": "Python 3"
    },
    "language_info": {
      "name": "python"
    }
  },
  "cells": [
    {
      "cell_type": "markdown",
      "source": [
        "# DataScienceEcosystem"
      ],
      "metadata": {
        "id": "Hb206-ByZP64"
      }
    },
    {
      "cell_type": "markdown",
      "source": [
        "In this notebook, Data Science Tools and Ecosystem are summarized."
      ],
      "metadata": {
        "id": "ef1NUZaBc0OX"
      }
    },
    {
      "cell_type": "markdown",
      "source": [
        "Some of the popular languages that Data Scientists use are:\n",
        "\n",
        "1.   Python\n",
        "2.   R\n",
        "3.   SQL"
      ],
      "metadata": {
        "id": "MzMpJeNTfaxd"
      }
    },
    {
      "cell_type": "markdown",
      "source": [
        "Some of the commonly used libraries used by Data Scientists include:\n",
        "\n",
        "1.   Numpy\n",
        "2.   Pandas\n",
        "3. Matplotlib\n",
        "\n"
      ],
      "metadata": {
        "id": "gmKepVCDgNBD"
      }
    },
    {
      "cell_type": "markdown",
      "source": [
        "Data Science Tools\n",
        "\n",
        "*   Jupyter\n",
        "*   Apache Spark\n",
        "*   BigML"
      ],
      "metadata": {
        "id": "-2RXeecTgthL"
      }
    },
    {
      "cell_type": "markdown",
      "source": [
        "Below are a few examples of evaluating arithmetic expressions in Python"
      ],
      "metadata": {
        "id": "FuN76nNWhZgB"
      }
    },
    {
      "cell_type": "code",
      "source": [
        "(3*4)+5 #This a simple arithmetic expression to mutiply then add integers"
      ],
      "metadata": {
        "colab": {
          "base_uri": "https://localhost:8080/"
        },
        "id": "f1RFOypehZ5s",
        "outputId": "944cda3f-38c8-4d25-a6f4-8e6d0df43a33"
      },
      "execution_count": 2,
      "outputs": [
        {
          "output_type": "execute_result",
          "data": {
            "text/plain": [
              "17"
            ]
          },
          "metadata": {},
          "execution_count": 2
        }
      ]
    },
    {
      "cell_type": "code",
      "source": [
        "200/60 #This will convert 200 minutes to hours by diving by 60"
      ],
      "metadata": {
        "colab": {
          "base_uri": "https://localhost:8080/"
        },
        "id": "yZ1oMxBchsle",
        "outputId": "0db80834-db62-406f-8929-7456c5beafe4"
      },
      "execution_count": 4,
      "outputs": [
        {
          "output_type": "execute_result",
          "data": {
            "text/plain": [
              "3.3333333333333335"
            ]
          },
          "metadata": {},
          "execution_count": 4
        }
      ]
    },
    {
      "cell_type": "markdown",
      "source": [
        "**Objectives:**"
      ],
      "metadata": {
        "id": "pi6I6JvejbTL"
      }
    },
    {
      "cell_type": "markdown",
      "source": [
        "List popular languages for Data Science:\n",
        "\n",
        "\n",
        "1.   Python.\n",
        "2. R.\n",
        "3. SQL.\n",
        "4. Java.\n",
        "5. Julia.\n",
        "6. Scala.\n",
        "7. C/C++.\n",
        "8. JavaScript.\n",
        "\n"
      ],
      "metadata": {
        "id": "SfkEcBnLjlgS"
      }
    },
    {
      "cell_type": "markdown",
      "source": [
        "Author:\n",
        "\n",
        "Liudmyla"
      ],
      "metadata": {
        "id": "SooUg7R9j4sJ"
      }
    }
  ]
}